{
 "cells": [
  {
   "cell_type": "code",
   "execution_count": 1,
   "metadata": {},
   "outputs": [],
   "source": [
    "import random"
   ]
  },
  {
   "cell_type": "code",
   "execution_count": 2,
   "metadata": {},
   "outputs": [],
   "source": [
    "import model\n",
    "import selfplay\n",
    "import game\n",
    "import config"
   ]
  },
  {
   "cell_type": "code",
   "execution_count": 3,
   "metadata": {},
   "outputs": [],
   "source": [
    "def get_probs_with_log(self, g: game.GameState):\n",
    "    \"runs N simulations and returns visit probabilities at root\"\n",
    "    root = selfplay.Node(g)\n",
    "    for i in range(config.num_simulate):\n",
    "        self.simulate(root)\n",
    "    self.print_tree(root)\n",
    "    return [\n",
    "        root.children[i].visit/(root.visit-1) if i in root.children else 0.0\n",
    "        for i in range(config.num_actions)\n",
    "    ]\n",
    "\n",
    "def my_print_tree(self, n: selfplay.Node, depth=0, all=True):\n",
    "    if n.visit:\n",
    "        a = \">>\"\n",
    "    else:\n",
    "        a = \"--\"\n",
    "    if depth < 3 and (all or n.visit):\n",
    "        print(a + 4*depth*\" \" + f\"board position: {repr(n.board)}, prob: {n.prob:0.2}, value: {n.value:0.2},\"\n",
    "                            f\" visit: {n.visit}, value_sum: {n.value_sum:0.2}\")\n",
    "        for ch in n.children.values():\n",
    "            self.print_tree(ch, depth+1)\n",
    "\n",
    "selfplay.MCTS.print_tree = my_print_tree\n",
    "selfplay.MCTS.get_probs = get_probs_with_log"
   ]
  },
  {
   "cell_type": "code",
   "execution_count": 4,
   "metadata": {},
   "outputs": [],
   "source": [
    "net = model.Model()\n",
    "net.load()\n",
    "mcts = selfplay.MCTS(net)"
   ]
  },
  {
   "cell_type": "code",
   "execution_count": 5,
   "metadata": {},
   "outputs": [],
   "source": [
    "import chess"
   ]
  },
  {
   "cell_type": "code",
   "execution_count": 9,
   "metadata": {},
   "outputs": [],
   "source": [
    "g = game.GameState()\n",
    "# g.board = chess.Board('3k4/8/8/8/4q3/2b5/8/2K5 b - - 9 286')\n",
    "g.board = chess.Board('3k4/8/8/8/4q3/2b5/8/2K5 b - - 9 286')  # mate in 2\n",
    "# g.board = chess.Board('3k4/8/8/8/8/2b5/4q3/1K6 b - - 11 287')  # mate in 1"
   ]
  },
  {
   "cell_type": "code",
   "execution_count": 10,
   "metadata": {},
   "outputs": [],
   "source": [
    "config.num_simulate = 1000"
   ]
  },
  {
   "cell_type": "code",
   "execution_count": 11,
   "metadata": {},
   "outputs": [
    {
     "name": "stdout",
     "output_type": "stream",
     "text": [
      ">>board position: Board('3k4/8/8/8/4q3/2b5/8/2K5 b - - 9 286'), prob: 0.0, value: 0.0093, visit: 1000, value_sum: -1.7e+02\n",
      ">>    board position: Board('3k4/8/8/8/4q3/8/8/b1K5 w - - 10 287'), prob: 0.023, value: 0.0093, visit: 20, value_sum: 0.15\n",
      ">>        board position: Board('3k4/8/8/8/4q3/8/8/b2K4 b - - 11 287'), prob: 0.5, value: 0.0094, visit: 9, value_sum: -0.065\n",
      ">>        board position: Board('3k4/8/8/8/4q3/8/3K4/b7 b - - 11 287'), prob: 0.5, value: 0.0092, visit: 10, value_sum: -0.072\n",
      ">>    board position: Board('3k4/8/8/8/4q3/8/8/2K1b3 w - - 10 287'), prob: 0.023, value: 0.0092, visit: 19, value_sum: 0.14\n",
      ">>        board position: Board('3k4/8/8/8/4q3/8/8/3Kb3 b - - 11 287'), prob: 0.5, value: 0.0092, visit: 9, value_sum: -0.064\n",
      ">>        board position: Board('3k4/8/8/8/4q3/8/1K6/4b3 b - - 11 287'), prob: 0.5, value: 0.0092, visit: 9, value_sum: -0.064\n",
      ">>    board position: Board('3k4/8/8/8/4q3/8/1b6/2K5 w - - 10 287'), prob: 0.023, value: 0.0094, visit: 19, value_sum: 0.12\n",
      ">>        board position: Board('3k4/8/8/8/4q3/8/1b6/3K4 b - - 11 287'), prob: 0.33, value: 0.0096, visit: 6, value_sum: -0.037\n",
      ">>        board position: Board('3k4/8/8/8/4q3/8/1K6/8 b - - 0 287'), prob: 0.33, value: 0.0092, visit: 6, value_sum: -0.037\n",
      ">>        board position: Board('3k4/8/8/8/4q3/8/1b1K4/8 b - - 11 287'), prob: 0.33, value: 0.0093, visit: 6, value_sum: -0.036\n",
      ">>    board position: Board('3k4/8/8/8/4q3/8/3b4/2K5 w - - 10 287'), prob: 0.023, value: 0.0092, visit: 19, value_sum: 0.11\n",
      ">>        board position: Board('3k4/8/8/8/4q3/8/3b4/3K4 b - - 11 287'), prob: 0.33, value: 0.0092, visit: 6, value_sum: -0.027\n",
      ">>        board position: Board('3k4/8/8/8/4q3/8/1K1b4/8 b - - 11 287'), prob: 0.33, value: 0.0092, visit: 6, value_sum: -0.037\n",
      ">>        board position: Board('3k4/8/8/8/4q3/8/3K4/8 b - - 0 287'), prob: 0.33, value: 0.0091, visit: 6, value_sum: -0.036\n",
      ">>    board position: Board('3k4/8/8/8/1b2q3/8/8/2K5 w - - 10 287'), prob: 0.023, value: 0.0092, visit: 19, value_sum: 0.13\n",
      ">>        board position: Board('3k4/8/8/8/1b2q3/8/8/3K4 b - - 11 287'), prob: 0.5, value: 0.0092, visit: 9, value_sum: -0.054\n",
      ">>        board position: Board('3k4/8/8/8/1b2q3/8/1K6/8 b - - 11 287'), prob: 0.5, value: 0.0091, visit: 9, value_sum: -0.062\n",
      ">>    board position: Board('3k4/8/8/8/3bq3/8/8/2K5 w - - 10 287'), prob: 0.023, value: 0.0095, visit: 20, value_sum: 0.15\n",
      ">>        board position: Board('3k4/8/8/8/3bq3/8/8/3K4 b - - 11 287'), prob: 0.5, value: 0.0094, visit: 10, value_sum: -0.074\n",
      ">>        board position: Board('3k4/8/8/8/3bq3/8/3K4/8 b - - 11 287'), prob: 0.5, value: 0.0091, visit: 9, value_sum: -0.063\n",
      ">>    board position: Board('3k4/8/8/b7/4q3/8/8/2K5 w - - 10 287'), prob: 0.023, value: 0.0094, visit: 20, value_sum: 0.14\n",
      ">>        board position: Board('3k4/8/8/b7/4q3/8/8/3K4 b - - 11 287'), prob: 0.5, value: 0.0094, visit: 10, value_sum: -0.064\n",
      ">>        board position: Board('3k4/8/8/b7/4q3/8/1K6/8 b - - 11 287'), prob: 0.5, value: 0.0093, visit: 9, value_sum: -0.065\n",
      ">>    board position: Board('3k4/8/8/4b3/4q3/8/8/2K5 w - - 10 287'), prob: 0.023, value: 0.0094, visit: 19, value_sum: 0.14\n",
      ">>        board position: Board('3k4/8/8/4b3/4q3/8/8/3K4 b - - 11 287'), prob: 0.5, value: 0.0094, visit: 9, value_sum: -0.065\n",
      ">>        board position: Board('3k4/8/8/4b3/4q3/8/3K4/8 b - - 11 287'), prob: 0.5, value: 0.0093, visit: 9, value_sum: -0.064\n",
      ">>    board position: Board('3k4/8/5b2/8/4q3/8/8/2K5 w - - 10 287'), prob: 0.023, value: 0.0094, visit: 19, value_sum: 0.14\n",
      ">>        board position: Board('3k4/8/5b2/8/4q3/8/8/3K4 b - - 11 287'), prob: 0.5, value: 0.0096, visit: 9, value_sum: -0.066\n",
      ">>        board position: Board('3k4/8/5b2/8/4q3/8/3K4/8 b - - 11 287'), prob: 0.5, value: 0.0093, visit: 9, value_sum: -0.063\n",
      ">>    board position: Board('3k4/6b1/8/8/4q3/8/8/2K5 w - - 10 287'), prob: 0.023, value: 0.0094, visit: 20, value_sum: 0.15\n",
      ">>        board position: Board('3k4/6b1/8/8/4q3/8/8/3K4 b - - 11 287'), prob: 0.5, value: 0.0096, visit: 9, value_sum: -0.065\n",
      ">>        board position: Board('3k4/6b1/8/8/4q3/8/3K4/8 b - - 11 287'), prob: 0.5, value: 0.0092, visit: 10, value_sum: -0.072\n",
      ">>    board position: Board('3k3b/8/8/8/4q3/8/8/2K5 w - - 10 287'), prob: 0.023, value: 0.0092, visit: 19, value_sum: 0.14\n",
      ">>        board position: Board('3k3b/8/8/8/4q3/8/8/3K4 b - - 11 287'), prob: 0.5, value: 0.0094, visit: 9, value_sum: -0.065\n",
      ">>        board position: Board('3k3b/8/8/8/4q3/8/3K4/8 b - - 11 287'), prob: 0.5, value: 0.009, visit: 9, value_sum: -0.062\n",
      ">>    board position: Board('3k4/8/8/8/8/2b5/8/1qK5 w - - 10 287'), prob: 0.023, value: 0.009, visit: 18, value_sum: 0.009\n",
      ">>        board position: Board('3k4/8/8/8/8/2b5/8/1K6 b - - 0 287'), prob: 1.0, value: 0.0, visit: 17, value_sum: 0.0\n",
      ">>    board position: Board('3k4/8/8/8/8/2b5/8/2K1q3 w - - 10 287'), prob: 0.023, value: 0.0092, visit: 20, value_sum: 0.17\n",
      ">>        board position: Board('3k4/8/8/8/8/2b5/2K5/4q3 b - - 11 287'), prob: 1.0, value: 0.0093, visit: 19, value_sum: -0.16\n",
      ">>    board position: Board('3k4/8/8/8/8/2b5/8/2K4q w - - 10 287'), prob: 0.023, value: 0.0092, visit: 20, value_sum: 0.17\n",
      ">>        board position: Board('3k4/8/8/8/8/2b5/2K5/7q b - - 11 287'), prob: 1.0, value: 0.0094, visit: 19, value_sum: -0.16\n",
      ">>    board position: Board('3k4/8/8/8/8/2b5/2q5/2K5 w - - 10 287'), prob: 0.023, value: 0.0093, visit: 18, value_sum: 0.0093\n",
      ">>        board position: Board('3k4/8/8/8/8/2b5/2K5/8 b - - 0 287'), prob: 1.0, value: 0.0, visit: 17, value_sum: 0.0\n",
      ">>    board position: Board('3k4/8/8/8/8/2b5/4q3/2K5 w - - 10 287'), prob: 0.023, value: 0.0093, visit: 20, value_sum: 0.15\n",
      ">>        board position: Board('3k4/8/8/8/8/2b5/4q3/1K6 b - - 11 287'), prob: 1.0, value: 0.009, visit: 19, value_sum: -0.14\n",
      ">>    board position: Board('3k4/8/8/8/8/2b5/6q1/2K5 w - - 10 287'), prob: 0.023, value: 0.0092, visit: 180, value_sum: 1.6e+02\n",
      ">>        board position: Board('3k4/8/8/8/8/2b5/6q1/1K6 b - - 11 287'), prob: 0.5, value: 0.0089, visit: 89, value_sum: -8e+01\n",
      ">>        board position: Board('3k4/8/8/8/8/2b5/6q1/3K4 b - - 11 287'), prob: 0.5, value: 0.0093, visit: 90, value_sum: -8e+01\n",
      ">>    board position: Board('3k4/8/8/8/8/2bq4/8/2K5 w - - 10 287'), prob: 0.023, value: 0.0, visit: 18, value_sum: 0.0\n",
      ">>    board position: Board('3k4/8/8/8/8/2b1q3/8/2K5 w - - 10 287'), prob: 0.023, value: 0.0092, visit: 19, value_sum: 0.12\n",
      ">>        board position: Board('3k4/8/8/8/8/2b1q3/8/1K6 b - - 11 287'), prob: 0.33, value: 0.009, visit: 6, value_sum: -0.036\n",
      ">>        board position: Board('3k4/8/8/8/8/2b1q3/8/3K4 b - - 11 287'), prob: 0.33, value: 0.0091, visit: 6, value_sum: -0.037\n",
      ">>        board position: Board('3k4/8/8/8/8/2b1q3/2K5/8 b - - 11 287'), prob: 0.33, value: 0.0092, visit: 6, value_sum: -0.037\n",
      ">>    board position: Board('3k4/8/8/8/8/2b2q2/8/2K5 w - - 10 287'), prob: 0.023, value: 0.0092, visit: 19, value_sum: 0.14\n",
      ">>        board position: Board('3k4/8/8/8/8/2b2q2/8/1K6 b - - 11 287'), prob: 0.5, value: 0.0087, visit: 9, value_sum: -0.063\n",
      ">>        board position: Board('3k4/8/8/8/8/2b2q2/2K5/8 b - - 11 287'), prob: 0.5, value: 0.009, visit: 9, value_sum: -0.064\n",
      ">>    board position: Board('3k4/8/8/8/q7/2b5/8/2K5 w - - 10 287'), prob: 0.023, value: 0.0093, visit: 20, value_sum: 0.16\n",
      ">>        board position: Board('3k4/8/8/8/q7/2b5/8/1K6 b - - 11 287'), prob: 1.0, value: 0.0092, visit: 19, value_sum: -0.15\n",
      ">>    board position: Board('3k4/8/8/8/1q6/2b5/8/2K5 w - - 10 287'), prob: 0.023, value: 0.0092, visit: 20, value_sum: 0.15\n",
      ">>        board position: Board('3k4/8/8/8/1q6/2b5/8/3K4 b - - 11 287'), prob: 0.5, value: 0.0092, visit: 10, value_sum: -0.075\n",
      ">>        board position: Board('3k4/8/8/8/1q6/2b5/2K5/8 b - - 11 287'), prob: 0.5, value: 0.0091, visit: 9, value_sum: -0.065\n",
      ">>    board position: Board('3k4/8/8/8/2q5/2b5/8/2K5 w - - 10 287'), prob: 0.023, value: 0.0092, visit: 20, value_sum: 0.12\n",
      ">>        board position: Board('3k4/8/8/8/2q5/2b5/8/1K6 b - - 11 287'), prob: 0.34, value: 0.0093, visit: 7, value_sum: -0.045\n",
      ">>        board position: Board('3k4/8/8/8/2q5/2b5/8/3K4 b - - 11 287'), prob: 0.33, value: 0.0094, visit: 6, value_sum: -0.028\n",
      ">>        board position: Board('3k4/8/8/8/2q5/2b5/2K5/8 b - - 11 287'), prob: 0.33, value: 0.0092, visit: 6, value_sum: -0.037\n",
      ">>    board position: Board('3k4/8/8/8/3q4/2b5/8/2K5 w - - 10 287'), prob: 0.023, value: 0.0092, visit: 19, value_sum: 0.13\n",
      ">>        board position: Board('3k4/8/8/8/3q4/2b5/8/1K6 b - - 11 287'), prob: 0.5, value: 0.0089, visit: 9, value_sum: -0.054\n",
      ">>        board position: Board('3k4/8/8/8/3q4/2b5/2K5/8 b - - 11 287'), prob: 0.5, value: 0.0092, visit: 9, value_sum: -0.065\n",
      ">>    board position: Board('3k4/8/8/8/5q2/2b5/8/2K5 w - - 10 287'), prob: 0.023, value: 0.0092, visit: 20, value_sum: 0.13\n",
      ">>        board position: Board('3k4/8/8/8/5q2/2b5/8/1K6 b - - 11 287'), prob: 0.33, value: 0.0089, visit: 7, value_sum: -0.045\n",
      ">>        board position: Board('3k4/8/8/8/5q2/2b5/8/3K4 b - - 11 287'), prob: 0.33, value: 0.0093, visit: 6, value_sum: -0.037\n",
      ">>        board position: Board('3k4/8/8/8/5q2/2b5/2K5/8 b - - 11 287'), prob: 0.33, value: 0.0093, visit: 6, value_sum: -0.037\n",
      ">>    board position: Board('3k4/8/8/8/6q1/2b5/8/2K5 w - - 10 287'), prob: 0.023, value: 0.0093, visit: 20, value_sum: 0.15\n",
      ">>        board position: Board('3k4/8/8/8/6q1/2b5/8/1K6 b - - 11 287'), prob: 0.5, value: 0.009, visit: 10, value_sum: -0.072\n",
      ">>        board position: Board('3k4/8/8/8/6q1/2b5/2K5/8 b - - 11 287'), prob: 0.5, value: 0.0093, visit: 9, value_sum: -0.065\n",
      ">>    board position: Board('3k4/8/8/8/7q/2b5/8/2K5 w - - 10 287'), prob: 0.023, value: 0.0093, visit: 19, value_sum: 0.12\n",
      ">>        board position: Board('3k4/8/8/8/7q/2b5/8/1K6 b - - 11 287'), prob: 0.34, value: 0.009, visit: 6, value_sum: -0.037\n",
      ">>        board position: Board('3k4/8/8/8/7q/2b5/8/3K4 b - - 11 287'), prob: 0.33, value: 0.0093, visit: 6, value_sum: -0.037\n",
      ">>        board position: Board('3k4/8/8/8/7q/2b5/2K5/8 b - - 11 287'), prob: 0.33, value: 0.0092, visit: 6, value_sum: -0.037\n",
      ">>    board position: Board('3k4/8/8/3q4/8/2b5/8/2K5 w - - 10 287'), prob: 0.023, value: 0.0092, visit: 20, value_sum: 0.14\n",
      ">>        board position: Board('3k4/8/8/3q4/8/2b5/8/1K6 b - - 11 287'), prob: 0.5, value: 0.0092, visit: 10, value_sum: -0.071\n",
      ">>        board position: Board('3k4/8/8/3q4/8/2b5/2K5/8 b - - 11 287'), prob: 0.5, value: 0.0094, visit: 9, value_sum: -0.064\n",
      ">>    board position: Board('3k4/8/8/4q3/8/2b5/8/2K5 w - - 10 287'), prob: 0.023, value: 0.009, visit: 20, value_sum: 0.13\n",
      ">>        board position: Board('3k4/8/8/4q3/8/2b5/8/1K6 b - - 11 287'), prob: 0.33, value: 0.0089, visit: 7, value_sum: -0.045\n",
      ">>        board position: Board('3k4/8/8/4q3/8/2b5/8/3K4 b - - 11 287'), prob: 0.33, value: 0.0089, visit: 6, value_sum: -0.038\n",
      ">>        board position: Board('3k4/8/8/4q3/8/2b5/2K5/8 b - - 11 287'), prob: 0.33, value: 0.0091, visit: 6, value_sum: -0.038\n",
      ">>    board position: Board('3k4/8/8/5q2/8/2b5/8/2K5 w - - 10 287'), prob: 0.023, value: 0.0094, visit: 19, value_sum: 0.16\n",
      ">>        board position: Board('3k4/8/8/5q2/8/2b5/8/3K4 b - - 11 287'), prob: 1.0, value: 0.0092, visit: 18, value_sum: -0.15\n",
      ">>    board position: Board('3k4/8/2q5/8/8/2b5/8/2K5 w - - 10 287'), prob: 0.023, value: 0.0093, visit: 20, value_sum: 0.13\n",
      ">>        board position: Board('3k4/8/2q5/8/8/2b5/8/1K6 b - - 11 287'), prob: 0.33, value: 0.009, visit: 7, value_sum: -0.046\n",
      ">>        board position: Board('3k4/8/2q5/8/8/2b5/8/3K4 b - - 11 287'), prob: 0.33, value: 0.0092, visit: 6, value_sum: -0.037\n",
      ">>        board position: Board('3k4/8/2q5/8/8/2b5/2K5/8 b - - 11 287'), prob: 0.33, value: 0.0093, visit: 6, value_sum: -0.037\n",
      ">>    board position: Board('3k4/8/4q3/8/8/2b5/8/2K5 w - - 10 287'), prob: 0.023, value: 0.0092, visit: 20, value_sum: 0.13\n",
      ">>        board position: Board('3k4/8/4q3/8/8/2b5/8/1K6 b - - 11 287'), prob: 0.34, value: 0.009, visit: 7, value_sum: -0.045\n",
      ">>        board position: Board('3k4/8/4q3/8/8/2b5/8/3K4 b - - 11 287'), prob: 0.33, value: 0.0094, visit: 6, value_sum: -0.036\n",
      ">>        board position: Board('3k4/8/4q3/8/8/2b5/2K5/8 b - - 11 287'), prob: 0.33, value: 0.0092, visit: 6, value_sum: -0.037\n",
      ">>    board position: Board('3k4/8/6q1/8/8/2b5/8/2K5 w - - 10 287'), prob: 0.023, value: 0.0092, visit: 20, value_sum: 0.17\n",
      ">>        board position: Board('3k4/8/6q1/8/8/2b5/8/3K4 b - - 11 287'), prob: 1.0, value: 0.0092, visit: 19, value_sum: -0.16\n",
      ">>    board position: Board('3k4/1q6/8/8/8/2b5/8/2K5 w - - 10 287'), prob: 0.023, value: 0.0091, visit: 20, value_sum: 0.15\n",
      ">>        board position: Board('3k4/1q6/8/8/8/2b5/8/3K4 b - - 11 287'), prob: 0.5, value: 0.009, visit: 10, value_sum: -0.074\n",
      ">>        board position: Board('3k4/1q6/8/8/8/2b5/2K5/8 b - - 11 287'), prob: 0.5, value: 0.0091, visit: 9, value_sum: -0.064\n",
      ">>    board position: Board('3k4/4q3/8/8/8/2b5/8/2K5 w - - 10 287'), prob: 0.023, value: 0.0092, visit: 19, value_sum: 0.12\n",
      ">>        board position: Board('3k4/4q3/8/8/8/2b5/8/1K6 b - - 11 287'), prob: 0.33, value: 0.009, visit: 6, value_sum: -0.036\n",
      ">>        board position: Board('3k4/4q3/8/8/8/2b5/8/3K4 b - - 11 287'), prob: 0.33, value: 0.0091, visit: 6, value_sum: -0.037\n",
      ">>        board position: Board('3k4/4q3/8/8/8/2b5/2K5/8 b - - 11 287'), prob: 0.33, value: 0.0092, visit: 6, value_sum: -0.037\n",
      ">>    board position: Board('3k4/7q/8/8/8/2b5/8/2K5 w - - 10 287'), prob: 0.023, value: 0.0094, visit: 20, value_sum: 0.17\n",
      ">>        board position: Board('3k4/7q/8/8/8/2b5/8/3K4 b - - 11 287'), prob: 1.0, value: 0.0094, visit: 19, value_sum: -0.16\n",
      ">>    board position: Board('q2k4/8/8/8/8/2b5/8/2K5 w - - 10 287'), prob: 0.023, value: 0.0092, visit: 19, value_sum: 0.12\n",
      ">>        board position: Board('q2k4/8/8/8/8/2b5/8/1K6 b - - 11 287'), prob: 0.33, value: 0.0089, visit: 6, value_sum: -0.036\n",
      ">>        board position: Board('q2k4/8/8/8/8/2b5/8/3K4 b - - 11 287'), prob: 0.33, value: 0.0091, visit: 6, value_sum: -0.037\n",
      ">>        board position: Board('q2k4/8/8/8/8/2b5/2K5/8 b - - 11 287'), prob: 0.33, value: 0.0091, visit: 6, value_sum: -0.037\n",
      ">>    board position: Board('3kq3/8/8/8/8/2b5/8/2K5 w - - 10 287'), prob: 0.023, value: 0.0091, visit: 20, value_sum: 0.13\n",
      ">>        board position: Board('3kq3/8/8/8/8/2b5/8/1K6 b - - 11 287'), prob: 0.33, value: 0.0092, visit: 7, value_sum: -0.045\n",
      ">>        board position: Board('3kq3/8/8/8/8/2b5/8/3K4 b - - 11 287'), prob: 0.33, value: 0.0093, visit: 6, value_sum: -0.037\n",
      ">>        board position: Board('3kq3/8/8/8/8/2b5/2K5/8 b - - 11 287'), prob: 0.33, value: 0.0093, visit: 6, value_sum: -0.037\n",
      ">>    board position: Board('8/2k5/8/8/4q3/2b5/8/2K5 w - - 10 287'), prob: 0.023, value: 0.0092, visit: 20, value_sum: 0.16\n",
      ">>        board position: Board('8/2k5/8/8/4q3/2b5/8/3K4 b - - 11 287'), prob: 1.0, value: 0.0091, visit: 19, value_sum: -0.15\n",
      ">>    board position: Board('8/3k4/8/8/4q3/2b5/8/2K5 w - - 10 287'), prob: 0.023, value: 0.0091, visit: 20, value_sum: 0.17\n",
      ">>        board position: Board('8/3k4/8/8/4q3/2b5/8/3K4 b - - 11 287'), prob: 1.0, value: 0.0092, visit: 19, value_sum: -0.16\n",
      ">>    board position: Board('8/4k3/8/8/4q3/2b5/8/2K5 w - - 10 287'), prob: 0.023, value: 0.009, visit: 20, value_sum: 0.17\n",
      ">>        board position: Board('8/4k3/8/8/4q3/2b5/8/3K4 b - - 11 287'), prob: 1.0, value: 0.0091, visit: 19, value_sum: -0.16\n",
      ">>    board position: Board('2k5/8/8/8/4q3/2b5/8/2K5 w - - 10 287'), prob: 0.023, value: 0.0092, visit: 20, value_sum: 0.17\n",
      ">>        board position: Board('2k5/8/8/8/4q3/2b5/8/3K4 b - - 11 287'), prob: 1.0, value: 0.0092, visit: 19, value_sum: -0.16\n",
      ">>    board position: Board('4k3/8/8/8/4q3/2b5/8/2K5 w - - 10 287'), prob: 0.023, value: 0.0091, visit: 19, value_sum: 0.16\n",
      ">>        board position: Board('4k3/8/8/8/4q3/2b5/8/3K4 b - - 11 287'), prob: 1.0, value: 0.0092, visit: 18, value_sum: -0.15\n"
     ]
    },
    {
     "ename": "",
     "evalue": "",
     "output_type": "error",
     "traceback": [
      "\u001b[1;31mThe Kernel crashed while executing code in the the current cell or a previous cell. Please review the code in the cell(s) to identify a possible cause of the failure. Click <a href='https://aka.ms/vscodeJupyterKernelCrash'>here</a> for more info. View Jupyter <a href='command:jupyter.viewOutput'>log</a> for further details."
     ]
    }
   ],
   "source": [
    "p = mcts.get_probs(g)"
   ]
  },
  {
   "cell_type": "code",
   "execution_count": 90,
   "metadata": {},
   "outputs": [],
   "source": [
    "b = chess.Board('3k4/8/8/8/8/2b5/1q6/1K6 w - - 12 288')"
   ]
  },
  {
   "cell_type": "code",
   "execution_count": 92,
   "metadata": {},
   "outputs": [],
   "source": [
    "g1 = game.GameState()\n",
    "g1.board = b"
   ]
  },
  {
   "cell_type": "code",
   "execution_count": 93,
   "metadata": {},
   "outputs": [
    {
     "data": {
      "text/plain": [
       "1"
      ]
     },
     "execution_count": 93,
     "metadata": {},
     "output_type": "execute_result"
    }
   ],
   "source": [
    "g1.leaf_value()"
   ]
  },
  {
   "cell_type": "code",
   "execution_count": null,
   "metadata": {},
   "outputs": [],
   "source": []
  },
  {
   "cell_type": "code",
   "execution_count": null,
   "metadata": {},
   "outputs": [],
   "source": []
  },
  {
   "cell_type": "code",
   "execution_count": null,
   "metadata": {},
   "outputs": [],
   "source": []
  },
  {
   "cell_type": "code",
   "execution_count": null,
   "metadata": {},
   "outputs": [],
   "source": []
  },
  {
   "cell_type": "code",
   "execution_count": null,
   "metadata": {},
   "outputs": [],
   "source": []
  },
  {
   "cell_type": "code",
   "execution_count": null,
   "metadata": {},
   "outputs": [],
   "source": []
  },
  {
   "cell_type": "code",
   "execution_count": 11,
   "metadata": {},
   "outputs": [
    {
     "name": "stdout",
     "output_type": "stream",
     "text": [
      "sum(probs)=1.0\n",
      "action=536\n",
      "sum(probs)=1.0\n",
      "action=3234\n",
      "sum(probs)=1.0\n",
      "action=853\n",
      "sum(probs)=1.0\n",
      "action=4013\n",
      "sum(probs)=1.0\n",
      "action=658\n",
      "Unexpected exception formatting exception. Falling back to standard exception\n"
     ]
    },
    {
     "name": "stderr",
     "output_type": "stream",
     "text": [
      "Traceback (most recent call last):\n",
      "  File \"/home/krkartikay/code/AlphaZeroFinal/venv/lib/python3.11/site-packages/IPython/core/interactiveshell.py\", line 3526, in run_code\n",
      "    exec(code_obj, self.user_global_ns, self.user_ns)\n",
      "  File \"/tmp/ipykernel_15361/3597355656.py\", line 6, in <module>\n",
      "    probs = mcts.get_probs(g)\n",
      "            ^^^^^^^^^^^^^^^^^\n",
      "  File \"/tmp/ipykernel_15361/2070827925.py\", line 5, in get_probs_with_log\n",
      "    self.simulate(root)\n",
      "  File \"/home/krkartikay/code/AlphaZeroFinal/selfplay.py\", line 121, in simulate\n",
      "    val_child = - self.simulate(m)\n",
      "                  ^^^^^^^^^^^^^^^^\n",
      "  File \"/home/krkartikay/code/AlphaZeroFinal/selfplay.py\", line 121, in simulate\n",
      "    val_child = - self.simulate(m)\n",
      "                  ^^^^^^^^^^^^^^^^\n",
      "  File \"/home/krkartikay/code/AlphaZeroFinal/selfplay.py\", line 126, in simulate\n",
      "    n.expand(self.net)\n",
      "  File \"/home/krkartikay/code/AlphaZeroFinal/selfplay.py\", line -1, in expand\n",
      "KeyboardInterrupt\n",
      "\n",
      "During handling of the above exception, another exception occurred:\n",
      "\n",
      "Traceback (most recent call last):\n",
      "  File \"/home/krkartikay/code/AlphaZeroFinal/venv/lib/python3.11/site-packages/IPython/core/interactiveshell.py\", line 2120, in showtraceback\n",
      "    stb = self.InteractiveTB.structured_traceback(\n",
      "          ^^^^^^^^^^^^^^^^^^^^^^^^^^^^^^^^^^^^^^^^\n",
      "  File \"/home/krkartikay/code/AlphaZeroFinal/venv/lib/python3.11/site-packages/IPython/core/ultratb.py\", line 1435, in structured_traceback\n",
      "    return FormattedTB.structured_traceback(\n",
      "           ^^^^^^^^^^^^^^^^^^^^^^^^^^^^^^^^^\n",
      "  File \"/home/krkartikay/code/AlphaZeroFinal/venv/lib/python3.11/site-packages/IPython/core/ultratb.py\", line 1326, in structured_traceback\n",
      "    return VerboseTB.structured_traceback(\n",
      "           ^^^^^^^^^^^^^^^^^^^^^^^^^^^^^^^\n",
      "  File \"/home/krkartikay/code/AlphaZeroFinal/venv/lib/python3.11/site-packages/IPython/core/ultratb.py\", line 1173, in structured_traceback\n",
      "    formatted_exception = self.format_exception_as_a_whole(etype, evalue, etb, number_of_lines_of_context,\n",
      "                          ^^^^^^^^^^^^^^^^^^^^^^^^^^^^^^^^^^^^^^^^^^^^^^^^^^^^^^^^^^^^^^^^^^^^^^^^^^^^^^^^\n",
      "  File \"/home/krkartikay/code/AlphaZeroFinal/venv/lib/python3.11/site-packages/IPython/core/ultratb.py\", line 1088, in format_exception_as_a_whole\n",
      "    frames.append(self.format_record(record))\n",
      "                  ^^^^^^^^^^^^^^^^^^^^^^^^^^\n",
      "  File \"/home/krkartikay/code/AlphaZeroFinal/venv/lib/python3.11/site-packages/IPython/core/ultratb.py\", line 970, in format_record\n",
      "    frame_info.lines, Colors, self.has_colors, lvals\n",
      "    ^^^^^^^^^^^^^^^^\n",
      "  File \"/home/krkartikay/code/AlphaZeroFinal/venv/lib/python3.11/site-packages/IPython/core/ultratb.py\", line 792, in lines\n",
      "    return self._sd.lines\n",
      "           ^^^^^^^^^^^^^^\n",
      "  File \"/home/krkartikay/code/AlphaZeroFinal/venv/lib/python3.11/site-packages/stack_data/utils.py\", line 145, in cached_property_wrapper\n",
      "    value = obj.__dict__[self.func.__name__] = self.func(obj)\n",
      "                                               ^^^^^^^^^^^^^^\n",
      "  File \"/home/krkartikay/code/AlphaZeroFinal/venv/lib/python3.11/site-packages/stack_data/core.py\", line 734, in lines\n",
      "    pieces = self.included_pieces\n",
      "             ^^^^^^^^^^^^^^^^^^^^\n",
      "  File \"/home/krkartikay/code/AlphaZeroFinal/venv/lib/python3.11/site-packages/stack_data/utils.py\", line 145, in cached_property_wrapper\n",
      "    value = obj.__dict__[self.func.__name__] = self.func(obj)\n",
      "                                               ^^^^^^^^^^^^^^\n",
      "  File \"/home/krkartikay/code/AlphaZeroFinal/venv/lib/python3.11/site-packages/stack_data/core.py\", line 681, in included_pieces\n",
      "    pos = scope_pieces.index(self.executing_piece)\n",
      "                             ^^^^^^^^^^^^^^^^^^^^\n",
      "  File \"/home/krkartikay/code/AlphaZeroFinal/venv/lib/python3.11/site-packages/stack_data/utils.py\", line 145, in cached_property_wrapper\n",
      "    value = obj.__dict__[self.func.__name__] = self.func(obj)\n",
      "                                               ^^^^^^^^^^^^^^\n",
      "  File \"/home/krkartikay/code/AlphaZeroFinal/venv/lib/python3.11/site-packages/stack_data/core.py\", line 660, in executing_piece\n",
      "    return only(\n",
      "           ^^^^^\n",
      "  File \"/home/krkartikay/code/AlphaZeroFinal/venv/lib/python3.11/site-packages/executing/executing.py\", line 116, in only\n",
      "    raise NotOneValueFound('Expected one value, found 0')\n",
      "executing.executing.NotOneValueFound: Expected one value, found 0\n"
     ]
    }
   ],
   "source": [
    "g = game.GameState()\n",
    "history = []\n",
    "move_history = []\n",
    "\n",
    "while not g.terminated():\n",
    "    probs = mcts.get_probs(g)\n",
    "    print(f\"{sum(probs)=}\")\n",
    "    #print(vis(str(g.to_image())))\n",
    "    history.append([g, probs, 0])\n",
    "    # choose action acc to probs\n",
    "    action = random.choices(list(range(config.num_actions)), probs)[0]\n",
    "    print(f\"{action=}\")\n",
    "    move_history.append(action)\n",
    "    g = g.next_state(action)\n",
    "\n",
    "print(f\"g={g.to_image()} {g.terminated()=}\")\n",
    "#print(vis(str(g.to_image())))\n"
   ]
  },
  {
   "cell_type": "code",
   "execution_count": null,
   "metadata": {},
   "outputs": [],
   "source": [
    "# log game outcome\n",
    "winner = g.winner()\n",
    "# print(move_history, winner)d\n",
    "# fill in the value function\n",
    "if winner != 0:\n",
    "    for state in history:\n",
    "        g = state[0]\n",
    "        if g.player() == winner:\n",
    "            state[2] = -1\n",
    "        else:\n",
    "            state[2] = 1"
   ]
  }
 ],
 "metadata": {
  "kernelspec": {
   "display_name": "Python 3 (ipykernel)",
   "language": "python",
   "name": "python3"
  },
  "language_info": {
   "codemirror_mode": {
    "name": "ipython",
    "version": 3
   },
   "file_extension": ".py",
   "mimetype": "text/x-python",
   "name": "python",
   "nbconvert_exporter": "python",
   "pygments_lexer": "ipython3",
   "version": "3.11.4"
  }
 },
 "nbformat": 4,
 "nbformat_minor": 4
}

{
    "cells": [
        {
            "cell_type": "code",
            "execution_count": 1,
            "source": [
                "import random"
            ],
            "outputs": [],
            "metadata": {}
        },
        {
            "cell_type": "code",
            "execution_count": 2,
            "source": [
                "import model\r\n",
                "import selfplay\r\n",
                "import game\r\n",
                "import config"
            ],
            "outputs": [],
            "metadata": {}
        },
        {
            "cell_type": "code",
            "execution_count": 7,
            "source": [
                "from visualise import vis"
            ],
            "outputs": [],
            "metadata": {}
        },
        {
            "cell_type": "code",
            "execution_count": 3,
            "source": [
                "def get_probs_with_log(self, g: game.GameState):\r\n",
                "    \"runs N simulations and returns visit probabilities at root\"\r\n",
                "    root = selfplay.Node(g)\r\n",
                "    for i in range(config.num_simulate):\r\n",
                "        self.simulate(root)\r\n",
                "    # self.print_tree(root)\r\n",
                "    return [\r\n",
                "        root.children[i].visit/(root.visit-1) if i in root.children else 0.0\r\n",
                "        for i in range(config.num_actions)\r\n",
                "    ]\r\n",
                "\r\n",
                "def my_print_tree(self, n: selfplay.Node, depth=0, all=True):\r\n",
                "    if n.visit:\r\n",
                "        a = \">>\"\r\n",
                "    else:\r\n",
                "        a = \"--\"\r\n",
                "    if depth < 2 and (all or n.visit):\r\n",
                "        print(depth*\" \" + f\"{a} position: {n.state}, prob: {n.prob:0.2}, value: {n.value:0.2},\"\r\n",
                "                            f\" visit: {n.visit}, value_sum: {n.value_sum:0.2}\")\r\n",
                "        for ch in n.children.values():\r\n",
                "            self.print_tree(ch, depth+1)\r\n",
                "\r\n",
                "selfplay.MCTS.print_tree = my_print_tree\r\n",
                "selfplay.MCTS.get_probs = get_probs_with_log"
            ],
            "outputs": [],
            "metadata": {}
        },
        {
            "cell_type": "code",
            "execution_count": 4,
            "source": [
                "net = model.Model()\r\n",
                "mcts = selfplay.MCTS(net)"
            ],
            "outputs": [],
            "metadata": {}
        },
        {
            "cell_type": "code",
            "execution_count": 10,
            "source": [
                "g = game.GameState()\r\n",
                "history = []\r\n",
                "move_history = []\r\n",
                "\r\n",
                "while not g.terminated():\r\n",
                "    probs = mcts.get_probs(g)\r\n",
                "    print(f\"g={g.to_image()} {probs=} {sum(probs)=}\")\r\n",
                "    print(vis(str(g.to_image())))\r\n",
                "    history.append([g, probs, 0])\r\n",
                "    # choose action acc to probs\r\n",
                "    action = random.choices(list(range(config.num_actions)), probs)[0]\r\n",
                "    print(f\"{action=}\")\r\n",
                "    move_history.append(action)\r\n",
                "    g = g.next_state(action)\r\n",
                "\r\n",
                "print(f\"g={g.to_image()} {g.terminated()=}\")\r\n",
                "print(vis(str(g.to_image())))\r\n"
            ],
            "outputs": [
                {
                    "output_type": "stream",
                    "name": "stdout",
                    "text": [
                        "g=[[0 0 0 0 0 0 0 0 0]] probs=[0.05263157894736842, 0.10526315789473684, 0.2631578947368421, 0.05263157894736842, 0.05263157894736842, 0.15789473684210525, 0.05263157894736842, 0.05263157894736842, 0.21052631578947367] sum(probs)=0.9999999999999998\n",
                        ". . .\n",
                        ". . .\n",
                        ". . .\n",
                        "\n",
                        "action=8\n",
                        "g=[[0 0 0 0 0 0 0 0 1]] probs=[0.0, 0.05263157894736842, 0.10526315789473684, 0.10526315789473684, 0.0, 0.7368421052631579, 0.0, 0.0, 0.0] sum(probs)=1.0\n",
                        ". . .\n",
                        ". . .\n",
                        ". . X\n",
                        "\n",
                        "action=5\n",
                        "g=[[ 0  0  0  0  0 -1  0  0  1]] probs=[0.0, 0.0, 0.6842105263157895, 0.15789473684210525, 0.0, 0.0, 0.10526315789473684, 0.05263157894736842, 0.0] sum(probs)=1.0\n",
                        ". . .\n",
                        ". . O\n",
                        ". . X\n",
                        "\n",
                        "action=2\n",
                        "g=[[ 0  0  1  0  0 -1  0  0  1]] probs=[0.0, 0.0, 0.0, 0.3157894736842105, 0.0, 0.0, 0.5789473684210527, 0.10526315789473684, 0.0] sum(probs)=1.0\n",
                        ". . X\n",
                        ". . O\n",
                        ". . X\n",
                        "\n",
                        "action=6\n",
                        "g=[[ 0  0  1  0  0 -1 -1  0  1]] probs=[0.10526315789473684, 0.10526315789473684, 0.0, 0.5789473684210527, 0.10526315789473684, 0.0, 0.0, 0.10526315789473684, 0.0] sum(probs)=1.0\n",
                        ". . X\n",
                        ". . O\n",
                        "O . X\n",
                        "\n",
                        "action=0\n",
                        "g=[[ 1  0  1  0  0 -1 -1  0  1]] probs=[0.0, 0.3157894736842105, 0.0, 0.5263157894736842, 0.05263157894736842, 0.0, 0.0, 0.10526315789473684, 0.0] sum(probs)=0.9999999999999999\n",
                        "X . X\n",
                        ". . O\n",
                        "O . X\n",
                        "\n",
                        "action=3\n",
                        "g=[[ 1  0  1 -1  0 -1 -1  0  1]] probs=[0.0, 0.5263157894736842, 0.0, 0.0, 0.3684210526315789, 0.0, 0.0, 0.10526315789473684, 0.0] sum(probs)=0.9999999999999999\n",
                        "X . X\n",
                        "O . O\n",
                        "O . X\n",
                        "\n",
                        "action=4\n",
                        "g=[[ 1  0  1 -1  1 -1 -1  0  1]] g.terminated()=True\n",
                        "X . X\n",
                        "O X O\n",
                        "O . X\n",
                        "\n"
                    ]
                }
            ],
            "metadata": {}
        },
        {
            "cell_type": "code",
            "execution_count": 6,
            "source": [
                "# log game outcome\r\n",
                "winner = g.winner()\r\n",
                "# print(move_history, winner)d\r\n",
                "# fill in the value function\r\n",
                "if winner != 0:\r\n",
                "    for state in history:\r\n",
                "        g = state[0]\r\n",
                "        if g.player() == winner:\r\n",
                "            state[2] = -1\r\n",
                "        else:\r\n",
                "            state[2] = 1"
            ],
            "outputs": [],
            "metadata": {}
        }
    ],
    "metadata": {
        "orig_nbformat": 4,
        "language_info": {
            "name": "python"
        }
    },
    "nbformat": 4,
    "nbformat_minor": 2
}